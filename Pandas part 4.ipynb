{
 "cells": [
  {
   "cell_type": "code",
   "execution_count": 1,
   "id": "a39add92",
   "metadata": {},
   "outputs": [],
   "source": [
    "import numpy as np"
   ]
  },
  {
   "cell_type": "code",
   "execution_count": 2,
   "id": "762adc11",
   "metadata": {},
   "outputs": [],
   "source": [
    "li=[1,2,3,4]"
   ]
  },
  {
   "cell_type": "code",
   "execution_count": 3,
   "id": "61a57608",
   "metadata": {},
   "outputs": [
    {
     "data": {
      "text/plain": [
       "list"
      ]
     },
     "execution_count": 3,
     "metadata": {},
     "output_type": "execute_result"
    }
   ],
   "source": [
    "type(li)"
   ]
  },
  {
   "cell_type": "code",
   "execution_count": 4,
   "id": "97f31679",
   "metadata": {},
   "outputs": [],
   "source": [
    "x=np.array(li)"
   ]
  },
  {
   "cell_type": "code",
   "execution_count": 5,
   "id": "828a55d6",
   "metadata": {},
   "outputs": [
    {
     "data": {
      "text/plain": [
       "array([1, 2, 3, 4])"
      ]
     },
     "execution_count": 5,
     "metadata": {},
     "output_type": "execute_result"
    }
   ],
   "source": [
    "x"
   ]
  },
  {
   "cell_type": "code",
   "execution_count": 6,
   "id": "8810fd2e",
   "metadata": {},
   "outputs": [
    {
     "data": {
      "text/plain": [
       "numpy.ndarray"
      ]
     },
     "execution_count": 6,
     "metadata": {},
     "output_type": "execute_result"
    }
   ],
   "source": [
    "type(x)"
   ]
  },
  {
   "cell_type": "markdown",
   "id": "1e89dde0",
   "metadata": {},
   "source": [
    "# Handling Missing Data"
   ]
  },
  {
   "cell_type": "code",
   "execution_count": 7,
   "id": "54f2e816",
   "metadata": {},
   "outputs": [],
   "source": [
    "import pandas as pd\n",
    "import numpy as np"
   ]
  },
  {
   "cell_type": "code",
   "execution_count": 8,
   "id": "18636a9a",
   "metadata": {},
   "outputs": [],
   "source": [
    "data1=np.array([1, None,2,3])"
   ]
  },
  {
   "cell_type": "code",
   "execution_count": 9,
   "id": "45bfaa82",
   "metadata": {},
   "outputs": [
    {
     "data": {
      "text/plain": [
       "array([1, None, 2, 3], dtype=object)"
      ]
     },
     "execution_count": 9,
     "metadata": {},
     "output_type": "execute_result"
    }
   ],
   "source": [
    "data1"
   ]
  },
  {
   "cell_type": "code",
   "execution_count": 12,
   "id": "67bb3199",
   "metadata": {},
   "outputs": [
    {
     "name": "stdout",
     "output_type": "stream",
     "text": [
      "2.23 ms ± 85.9 µs per loop (mean ± std. dev. of 7 runs, 100 loops each)\n"
     ]
    }
   ],
   "source": [
    "%timeit np.arange(1E6, dtype=int).sum()      #timeit fn. gives time required to do the task "
   ]
  },
  {
   "cell_type": "code",
   "execution_count": 11,
   "id": "d4d48cdf",
   "metadata": {},
   "outputs": [
    {
     "name": "stdout",
     "output_type": "stream",
     "text": [
      "80.4 ms ± 3.02 ms per loop (mean ± std. dev. of 7 runs, 10 loops each)\n"
     ]
    }
   ],
   "source": [
    "%timeit np.arange(1E6, dtype=object).sum()"
   ]
  },
  {
   "cell_type": "markdown",
   "id": "42ca4ea5",
   "metadata": {},
   "source": [
    "Data1.sum()\n",
    "\n",
    "Pandas does not use None in its numerical array\n",
    "\n",
    "To perform any function we have to remove nan"
   ]
  },
  {
   "cell_type": "code",
   "execution_count": 13,
   "id": "20c33972",
   "metadata": {},
   "outputs": [],
   "source": [
    "data2= np.array([1,np.nan,3,4])"
   ]
  },
  {
   "cell_type": "code",
   "execution_count": 14,
   "id": "e8ba5e9b",
   "metadata": {},
   "outputs": [
    {
     "data": {
      "text/plain": [
       "array([ 1., nan,  3.,  4.])"
      ]
     },
     "execution_count": 14,
     "metadata": {},
     "output_type": "execute_result"
    }
   ],
   "source": [
    "data2"
   ]
  },
  {
   "cell_type": "code",
   "execution_count": 15,
   "id": "8d43edb8",
   "metadata": {},
   "outputs": [
    {
     "data": {
      "text/plain": [
       "numpy.ndarray"
      ]
     },
     "execution_count": 15,
     "metadata": {},
     "output_type": "execute_result"
    }
   ],
   "source": [
    "type(data2)"
   ]
  },
  {
   "cell_type": "code",
   "execution_count": 16,
   "id": "c823d34e",
   "metadata": {},
   "outputs": [],
   "source": [
    "# 1 + None"
   ]
  },
  {
   "cell_type": "code",
   "execution_count": 17,
   "id": "5f4b5e2b",
   "metadata": {},
   "outputs": [
    {
     "data": {
      "text/plain": [
       "nan"
      ]
     },
     "execution_count": 17,
     "metadata": {},
     "output_type": "execute_result"
    }
   ],
   "source": [
    "1 + np.nan"
   ]
  },
  {
   "cell_type": "code",
   "execution_count": 18,
   "id": "80abdd6e",
   "metadata": {},
   "outputs": [
    {
     "data": {
      "text/plain": [
       "nan"
      ]
     },
     "execution_count": 18,
     "metadata": {},
     "output_type": "execute_result"
    }
   ],
   "source": [
    "1 * np.nan"
   ]
  },
  {
   "cell_type": "code",
   "execution_count": 19,
   "id": "d23fb8fa",
   "metadata": {},
   "outputs": [
    {
     "data": {
      "text/plain": [
       "nan"
      ]
     },
     "execution_count": 19,
     "metadata": {},
     "output_type": "execute_result"
    }
   ],
   "source": [
    "0 * np.nan"
   ]
  },
  {
   "cell_type": "markdown",
   "id": "e55a4f14",
   "metadata": {},
   "source": [
    "# NaN and None in pandas"
   ]
  },
  {
   "cell_type": "code",
   "execution_count": 29,
   "id": "bc028010",
   "metadata": {},
   "outputs": [
    {
     "data": {
      "text/plain": [
       "0    1.0\n",
       "1    NaN\n",
       "2    2.0\n",
       "3    NaN\n",
       "dtype: float64"
      ]
     },
     "execution_count": 29,
     "metadata": {},
     "output_type": "execute_result"
    }
   ],
   "source": [
    "pd.Series([1,np.nan,2,None])"
   ]
  },
  {
   "cell_type": "code",
   "execution_count": 30,
   "id": "c5679ec9",
   "metadata": {},
   "outputs": [],
   "source": [
    "x= pd.Series(range(2), dtype=int)"
   ]
  },
  {
   "cell_type": "code",
   "execution_count": 31,
   "id": "56bc0fe3",
   "metadata": {},
   "outputs": [
    {
     "data": {
      "text/plain": [
       "0    0\n",
       "1    1\n",
       "dtype: int32"
      ]
     },
     "execution_count": 31,
     "metadata": {},
     "output_type": "execute_result"
    }
   ],
   "source": [
    "x"
   ]
  },
  {
   "cell_type": "code",
   "execution_count": 32,
   "id": "d1b7e112",
   "metadata": {},
   "outputs": [],
   "source": [
    "x[0] = None"
   ]
  },
  {
   "cell_type": "code",
   "execution_count": 33,
   "id": "92fda5c4",
   "metadata": {},
   "outputs": [
    {
     "data": {
      "text/plain": [
       "0    NaN\n",
       "1    1.0\n",
       "dtype: float64"
      ]
     },
     "execution_count": 33,
     "metadata": {},
     "output_type": "execute_result"
    }
   ],
   "source": [
    "x"
   ]
  },
  {
   "cell_type": "code",
   "execution_count": 34,
   "id": "8ea46df3",
   "metadata": {},
   "outputs": [],
   "source": [
    "# pandas automatically converts the None to NaN value"
   ]
  },
  {
   "cell_type": "markdown",
   "id": "41402100",
   "metadata": {},
   "source": [
    "type class\n",
    "\n",
    "1. floating ----- no change-------np.nan\n",
    "2. object --------no change-------np.nan or None\n",
    "3. integer -------cast to float64-----np.nan\n",
    "4. boolean-------cast to object -----None or np.nan"
   ]
  },
  {
   "cell_type": "code",
   "execution_count": null,
   "id": "a802d5f8",
   "metadata": {},
   "outputs": [],
   "source": []
  },
  {
   "cell_type": "code",
   "execution_count": 35,
   "id": "9dafe827",
   "metadata": {},
   "outputs": [],
   "source": [
    "y = pd.Series(range(5), dtype=object)"
   ]
  },
  {
   "cell_type": "code",
   "execution_count": 36,
   "id": "900f287c",
   "metadata": {},
   "outputs": [
    {
     "data": {
      "text/plain": [
       "0    0\n",
       "1    1\n",
       "2    2\n",
       "3    3\n",
       "4    4\n",
       "dtype: object"
      ]
     },
     "execution_count": 36,
     "metadata": {},
     "output_type": "execute_result"
    }
   ],
   "source": [
    "y"
   ]
  },
  {
   "cell_type": "code",
   "execution_count": 37,
   "id": "ee18940c",
   "metadata": {},
   "outputs": [],
   "source": [
    "y[0] = None"
   ]
  },
  {
   "cell_type": "code",
   "execution_count": 38,
   "id": "8d9246d2",
   "metadata": {},
   "outputs": [
    {
     "data": {
      "text/plain": [
       "0    None\n",
       "1       1\n",
       "2       2\n",
       "3       3\n",
       "4       4\n",
       "dtype: object"
      ]
     },
     "execution_count": 38,
     "metadata": {},
     "output_type": "execute_result"
    }
   ],
   "source": [
    "y"
   ]
  },
  {
   "cell_type": "markdown",
   "id": "8fdae1f2",
   "metadata": {},
   "source": [
    "# pandas nullable dtypes"
   ]
  },
  {
   "cell_type": "code",
   "execution_count": 41,
   "id": "1a8ea6a1",
   "metadata": {},
   "outputs": [
    {
     "data": {
      "text/plain": [
       "0       1\n",
       "1    <NA>\n",
       "2       2\n",
       "3    <NA>\n",
       "4    <NA>\n",
       "dtype: Int32"
      ]
     },
     "execution_count": 41,
     "metadata": {},
     "output_type": "execute_result"
    }
   ],
   "source": [
    "pd.Series([1,np.nan,2,None,pd.NA], dtype='Int32')"
   ]
  },
  {
   "cell_type": "code",
   "execution_count": 29,
   "id": "53158ad9",
   "metadata": {},
   "outputs": [
    {
     "data": {
      "text/plain": [
       "0       1\n",
       "1    <NA>\n",
       "2       2\n",
       "3    <NA>\n",
       "4    <NA>\n",
       "dtype: Int64"
      ]
     },
     "execution_count": 29,
     "metadata": {},
     "output_type": "execute_result"
    }
   ],
   "source": [
    "pd.Series([1,np.nan,2,None,pd.NA], dtype='Int64')"
   ]
  },
  {
   "cell_type": "code",
   "execution_count": 32,
   "id": "e215ebda",
   "metadata": {},
   "outputs": [
    {
     "data": {
      "text/plain": [
       "0       1\n",
       "1     NaN\n",
       "2       2\n",
       "3    None\n",
       "4    <NA>\n",
       "dtype: object"
      ]
     },
     "execution_count": 32,
     "metadata": {},
     "output_type": "execute_result"
    }
   ],
   "source": [
    "pd.Series([1,np.nan,2,None,pd.NA], dtype=object)"
   ]
  },
  {
   "cell_type": "code",
   "execution_count": 41,
   "id": "203bf162",
   "metadata": {},
   "outputs": [
    {
     "data": {
      "text/plain": [
       "0    1.0\n",
       "1    NaN\n",
       "2    2.0\n",
       "3    NaN\n",
       "dtype: float64"
      ]
     },
     "execution_count": 41,
     "metadata": {},
     "output_type": "execute_result"
    }
   ],
   "source": [
    "pd.Series([1,np.nan,2,None], dtype=float)"
   ]
  },
  {
   "cell_type": "markdown",
   "id": "92f0f552",
   "metadata": {},
   "source": [
    "# Operating on null values"
   ]
  },
  {
   "cell_type": "markdown",
   "id": "e689368b",
   "metadata": {},
   "source": [
    "### isnull"
   ]
  },
  {
   "cell_type": "markdown",
   "id": "495a1931",
   "metadata": {},
   "source": [
    "The isnull() method returns a DataFrame object where all the values are replaced with a Boolean value True for NULL values, and otherwise False."
   ]
  },
  {
   "cell_type": "code",
   "execution_count": 51,
   "id": "b0c909cc",
   "metadata": {},
   "outputs": [],
   "source": [
    "data=pd.Series([1,np.nan,'hello',None])"
   ]
  },
  {
   "cell_type": "code",
   "execution_count": 52,
   "id": "88adba29",
   "metadata": {},
   "outputs": [
    {
     "data": {
      "text/plain": [
       "0        1\n",
       "1      NaN\n",
       "2    hello\n",
       "3     None\n",
       "dtype: object"
      ]
     },
     "execution_count": 52,
     "metadata": {},
     "output_type": "execute_result"
    }
   ],
   "source": [
    "data"
   ]
  },
  {
   "cell_type": "code",
   "execution_count": 53,
   "id": "01efc24b",
   "metadata": {},
   "outputs": [
    {
     "data": {
      "text/plain": [
       "0    False\n",
       "1     True\n",
       "2    False\n",
       "3     True\n",
       "dtype: bool"
      ]
     },
     "execution_count": 53,
     "metadata": {},
     "output_type": "execute_result"
    }
   ],
   "source": [
    "data.isnull()"
   ]
  },
  {
   "cell_type": "markdown",
   "id": "5b9510c6",
   "metadata": {},
   "source": [
    "### notnull"
   ]
  },
  {
   "cell_type": "markdown",
   "id": "beea75ae",
   "metadata": {},
   "source": [
    "The notnull() method returns a DataFrame object where all the values are replaced with a Boolean value True for NOT NULL values, and otherwise False."
   ]
  },
  {
   "cell_type": "code",
   "execution_count": 54,
   "id": "ee142f28",
   "metadata": {},
   "outputs": [
    {
     "data": {
      "text/plain": [
       "0        1\n",
       "1      NaN\n",
       "2    hello\n",
       "3     None\n",
       "dtype: object"
      ]
     },
     "execution_count": 54,
     "metadata": {},
     "output_type": "execute_result"
    }
   ],
   "source": [
    "data"
   ]
  },
  {
   "cell_type": "code",
   "execution_count": 55,
   "id": "c05124c8",
   "metadata": {},
   "outputs": [
    {
     "data": {
      "text/plain": [
       "0     True\n",
       "1    False\n",
       "2     True\n",
       "3    False\n",
       "dtype: bool"
      ]
     },
     "execution_count": 55,
     "metadata": {},
     "output_type": "execute_result"
    }
   ],
   "source": [
    "data.notnull()"
   ]
  },
  {
   "cell_type": "code",
   "execution_count": 56,
   "id": "fa07f4cb",
   "metadata": {},
   "outputs": [
    {
     "data": {
      "text/plain": [
       "0        1\n",
       "2    hello\n",
       "dtype: object"
      ]
     },
     "execution_count": 56,
     "metadata": {},
     "output_type": "execute_result"
    }
   ],
   "source": [
    "data[data.notnull()]"
   ]
  },
  {
   "cell_type": "markdown",
   "id": "99e690d3",
   "metadata": {},
   "source": [
    "### dropna"
   ]
  },
  {
   "cell_type": "markdown",
   "id": "c904e1ca",
   "metadata": {},
   "source": [
    "The dropna() method removes the rows that contains NULL values."
   ]
  },
  {
   "cell_type": "code",
   "execution_count": 57,
   "id": "f8ce2a58",
   "metadata": {},
   "outputs": [],
   "source": [
    "data=pd.Series([1,np.nan,'hello',None])"
   ]
  },
  {
   "cell_type": "code",
   "execution_count": 58,
   "id": "fa04076c",
   "metadata": {},
   "outputs": [
    {
     "data": {
      "text/plain": [
       "0        1\n",
       "1      NaN\n",
       "2    hello\n",
       "3     None\n",
       "dtype: object"
      ]
     },
     "execution_count": 58,
     "metadata": {},
     "output_type": "execute_result"
    }
   ],
   "source": [
    "data"
   ]
  },
  {
   "cell_type": "code",
   "execution_count": 59,
   "id": "68b43486",
   "metadata": {},
   "outputs": [
    {
     "data": {
      "text/plain": [
       "0        1\n",
       "2    hello\n",
       "dtype: object"
      ]
     },
     "execution_count": 59,
     "metadata": {},
     "output_type": "execute_result"
    }
   ],
   "source": [
    "data.dropna()"
   ]
  },
  {
   "cell_type": "code",
   "execution_count": 60,
   "id": "1198623c",
   "metadata": {},
   "outputs": [
    {
     "data": {
      "text/plain": [
       "0        1\n",
       "1      NaN\n",
       "2    hello\n",
       "3     None\n",
       "dtype: object"
      ]
     },
     "execution_count": 60,
     "metadata": {},
     "output_type": "execute_result"
    }
   ],
   "source": [
    "data"
   ]
  },
  {
   "cell_type": "markdown",
   "id": "3e03c944",
   "metadata": {},
   "source": [
    "### fillna"
   ]
  },
  {
   "cell_type": "markdown",
   "id": "b9e203a9",
   "metadata": {},
   "source": [
    "The fillna() method replaces the NULL values with a specified value."
   ]
  },
  {
   "cell_type": "code",
   "execution_count": 64,
   "id": "5375477e",
   "metadata": {},
   "outputs": [
    {
     "ename": "NameError",
     "evalue": "name 'NA' is not defined",
     "output_type": "error",
     "traceback": [
      "\u001b[1;31m---------------------------------------------------------------------------\u001b[0m",
      "\u001b[1;31mNameError\u001b[0m                                 Traceback (most recent call last)",
      "Cell \u001b[1;32mIn[64], line 1\u001b[0m\n\u001b[1;32m----> 1\u001b[0m data\u001b[38;5;241m=\u001b[39mpd\u001b[38;5;241m.\u001b[39mSeries([\u001b[38;5;241m1\u001b[39m,np\u001b[38;5;241m.\u001b[39mnan,\u001b[38;5;124m'\u001b[39m\u001b[38;5;124mhello\u001b[39m\u001b[38;5;124m'\u001b[39m,\u001b[38;5;28;01mNone\u001b[39;00m,NA])\n",
      "\u001b[1;31mNameError\u001b[0m: name 'NA' is not defined"
     ]
    }
   ],
   "source": [
    "data=pd.Series([1,np.nan,'hello',None,NA])"
   ]
  },
  {
   "cell_type": "code",
   "execution_count": 62,
   "id": "37acd950",
   "metadata": {},
   "outputs": [
    {
     "data": {
      "text/plain": [
       "0        1\n",
       "1      NaN\n",
       "2    hello\n",
       "3     None\n",
       "dtype: object"
      ]
     },
     "execution_count": 62,
     "metadata": {},
     "output_type": "execute_result"
    }
   ],
   "source": [
    "data"
   ]
  },
  {
   "cell_type": "code",
   "execution_count": 63,
   "id": "8fa55654",
   "metadata": {},
   "outputs": [
    {
     "data": {
      "text/plain": [
       "0        1\n",
       "1        0\n",
       "2    hello\n",
       "3        0\n",
       "dtype: object"
      ]
     },
     "execution_count": 63,
     "metadata": {},
     "output_type": "execute_result"
    }
   ],
   "source": [
    "data.fillna(0)"
   ]
  },
  {
   "cell_type": "code",
   "execution_count": null,
   "id": "763b86be",
   "metadata": {},
   "outputs": [],
   "source": []
  }
 ],
 "metadata": {
  "kernelspec": {
   "display_name": "Python 3 (ipykernel)",
   "language": "python",
   "name": "python3"
  },
  "language_info": {
   "codemirror_mode": {
    "name": "ipython",
    "version": 3
   },
   "file_extension": ".py",
   "mimetype": "text/x-python",
   "name": "python",
   "nbconvert_exporter": "python",
   "pygments_lexer": "ipython3",
   "version": "3.11.5"
  }
 },
 "nbformat": 4,
 "nbformat_minor": 5
}
