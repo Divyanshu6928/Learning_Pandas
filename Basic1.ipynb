{
 "cells": [
  {
   "cell_type": "code",
   "execution_count": 1,
   "id": "eef7dfd4",
   "metadata": {},
   "outputs": [
    {
     "name": "stdout",
     "output_type": "stream",
     "text": [
      "hi\n"
     ]
    }
   ],
   "source": [
    "print(\"hi\")"
   ]
  },
  {
   "cell_type": "code",
   "execution_count": 4,
   "id": "6d416e60",
   "metadata": {},
   "outputs": [
    {
     "name": "stdout",
     "output_type": "stream",
     "text": [
      "hi*hi*hi\n",
      "hi\n"
     ]
    }
   ],
   "source": [
    "print(\"hi\",end='*')\n",
    "print(\"hi\",end='*')\n",
    "print(\"hi\")\n",
    "print(\"hi\")\n"
   ]
  },
  {
   "cell_type": "code",
   "execution_count": 3,
   "id": "cb1605cf",
   "metadata": {},
   "outputs": [
    {
     "name": "stdout",
     "output_type": "stream",
     "text": [
      "*\n",
      "**\n",
      "***\n",
      "****\n"
     ]
    }
   ],
   "source": [
    "print(\"*\")\n",
    "print(\"**\")\n",
    "print(\"***\")\n",
    "print(\"****\")"
   ]
  },
  {
   "cell_type": "code",
   "execution_count": 5,
   "id": "4dd2cb6b",
   "metadata": {},
   "outputs": [
    {
     "name": "stdout",
     "output_type": "stream",
     "text": [
      "Enter your nameDivyanshu\n"
     ]
    }
   ],
   "source": [
    "name=input(\"Enter your name\")"
   ]
  },
  {
   "cell_type": "code",
   "execution_count": 6,
   "id": "d2633b89",
   "metadata": {},
   "outputs": [
    {
     "data": {
      "text/plain": [
       "'Divyanshu'"
      ]
     },
     "execution_count": 6,
     "metadata": {},
     "output_type": "execute_result"
    }
   ],
   "source": [
    "name"
   ]
  },
  {
   "cell_type": "code",
   "execution_count": 7,
   "id": "7ca878a6",
   "metadata": {},
   "outputs": [
    {
     "name": "stdout",
     "output_type": "stream",
     "text": [
      "Enter your nameDivyanshu\n",
      "Divyanshu\n"
     ]
    }
   ],
   "source": [
    "name=input(\"Enter your name\")\n",
    "print(name)"
   ]
  },
  {
   "cell_type": "code",
   "execution_count": 10,
   "id": "61020e09",
   "metadata": {},
   "outputs": [
    {
     "name": "stdout",
     "output_type": "stream",
     "text": [
      "Enter the radius 2\n",
      "12.56\n"
     ]
    }
   ],
   "source": [
    "r=int(input(\"Enter the radius \"))\n",
    "print(3.14*r*r)"
   ]
  },
  {
   "cell_type": "code",
   "execution_count": 12,
   "id": "a9833196",
   "metadata": {},
   "outputs": [
    {
     "name": "stdout",
     "output_type": "stream",
     "text": [
      "Enter breadth : 2\n",
      "Enter height : 2\n",
      "Area of triangle is :  2.0\n"
     ]
    }
   ],
   "source": [
    "b=int(input(\"Enter breadth : \"))\n",
    "h=int(input(\"Enter height : \"))\n",
    "print(\"Area of triangle is : \",1/2*b*h)"
   ]
  },
  {
   "cell_type": "code",
   "execution_count": null,
   "id": "8436d3f6",
   "metadata": {},
   "outputs": [],
   "source": [
    "a=int(input(\"Enter the value of a: \"))\n",
    "b=int(input(\"Enter the value of b: \"))\n",
    "c=int(input(\"Enter the value of c: \"))\n",
    "x=(-b+(b*b-4*a*c)**1/2)/(2*a)\n",
    "print(x)"
   ]
  },
  {
   "cell_type": "code",
   "execution_count": 1,
   "id": "360f25e9",
   "metadata": {},
   "outputs": [
    {
     "name": "stdout",
     "output_type": "stream",
     "text": [
      "H\n",
      "Hel\n",
      "Hl\n"
     ]
    }
   ],
   "source": [
    "a=\"Hello\"\n",
    "print(a[0])\n",
    "print(a[0:3])\n",
    "print(a[0:4:2])"
   ]
  },
  {
   "cell_type": "code",
   "execution_count": 2,
   "id": "825c44dd",
   "metadata": {},
   "outputs": [
    {
     "data": {
      "text/plain": [
       "'o'"
      ]
     },
     "execution_count": 2,
     "metadata": {},
     "output_type": "execute_result"
    }
   ],
   "source": [
    "a[-1]"
   ]
  },
  {
   "cell_type": "code",
   "execution_count": 3,
   "id": "3247908f",
   "metadata": {},
   "outputs": [
    {
     "name": "stdout",
     "output_type": "stream",
     "text": [
      "o l l e H\n"
     ]
    }
   ],
   "source": [
    "print(a[-1],a[-2],a[-3],a[-4],a[-5])"
   ]
  },
  {
   "cell_type": "code",
   "execution_count": 4,
   "id": "2e1d99ec",
   "metadata": {},
   "outputs": [
    {
     "name": "stdout",
     "output_type": "stream",
     "text": [
      "olleH\n"
     ]
    }
   ],
   "source": [
    "a=\"Hello\"\n",
    "print(a[::-1])"
   ]
  },
  {
   "cell_type": "code",
   "execution_count": 6,
   "id": "67d5d844",
   "metadata": {},
   "outputs": [
    {
     "data": {
      "text/plain": [
       "'Bangalore'"
      ]
     },
     "execution_count": 6,
     "metadata": {},
     "output_type": "execute_result"
    }
   ],
   "source": [
    "y=\"Pw IOI Bangalore\"\n",
    "y[7:16]"
   ]
  },
  {
   "cell_type": "code",
   "execution_count": 8,
   "id": "1c79eb3e",
   "metadata": {},
   "outputs": [
    {
     "data": {
      "text/plain": [
       "'Bnaoe'"
      ]
     },
     "execution_count": 8,
     "metadata": {},
     "output_type": "execute_result"
    }
   ],
   "source": [
    "y[7::2]"
   ]
  },
  {
   "cell_type": "code",
   "execution_count": 10,
   "id": "97c9704d",
   "metadata": {},
   "outputs": [
    {
     "data": {
      "text/plain": [
       "'Bangalore'"
      ]
     },
     "execution_count": 10,
     "metadata": {},
     "output_type": "execute_result"
    }
   ],
   "source": [
    "y[-9::]"
   ]
  },
  {
   "cell_type": "code",
   "execution_count": 11,
   "id": "216c4c9d",
   "metadata": {},
   "outputs": [
    {
     "data": {
      "text/plain": [
       "6"
      ]
     },
     "execution_count": 11,
     "metadata": {},
     "output_type": "execute_result"
    }
   ],
   "source": [
    "13//2"
   ]
  },
  {
   "cell_type": "code",
   "execution_count": 12,
   "id": "ee828470",
   "metadata": {},
   "outputs": [
    {
     "data": {
      "text/plain": [
       "6.5"
      ]
     },
     "execution_count": 12,
     "metadata": {},
     "output_type": "execute_result"
    }
   ],
   "source": [
    "13/2"
   ]
  },
  {
   "cell_type": "code",
   "execution_count": 13,
   "id": "24af752b",
   "metadata": {},
   "outputs": [
    {
     "data": {
      "text/plain": [
       "1"
      ]
     },
     "execution_count": 13,
     "metadata": {},
     "output_type": "execute_result"
    }
   ],
   "source": [
    "13%2"
   ]
  },
  {
   "cell_type": "code",
   "execution_count": 14,
   "id": "701041c0",
   "metadata": {},
   "outputs": [
    {
     "data": {
      "text/plain": [
       "4"
      ]
     },
     "execution_count": 14,
     "metadata": {},
     "output_type": "execute_result"
    }
   ],
   "source": [
    "2**2"
   ]
  },
  {
   "cell_type": "code",
   "execution_count": 15,
   "id": "f6142e0f",
   "metadata": {},
   "outputs": [
    {
     "data": {
      "text/plain": [
       "True"
      ]
     },
     "execution_count": 15,
     "metadata": {},
     "output_type": "execute_result"
    }
   ],
   "source": [
    "3!=2"
   ]
  },
  {
   "cell_type": "code",
   "execution_count": 16,
   "id": "903c96a9",
   "metadata": {},
   "outputs": [
    {
     "name": "stdout",
     "output_type": "stream",
     "text": [
      "False\n"
     ]
    }
   ],
   "source": [
    "a=\"Ramesh\"\n",
    "b=\"Rohit\"\n",
    "print(a>b)"
   ]
  },
  {
   "cell_type": "code",
   "execution_count": 17,
   "id": "d5730f49",
   "metadata": {},
   "outputs": [
    {
     "data": {
      "text/plain": [
       "65"
      ]
     },
     "execution_count": 17,
     "metadata": {},
     "output_type": "execute_result"
    }
   ],
   "source": [
    "ord('A')"
   ]
  },
  {
   "cell_type": "code",
   "execution_count": 18,
   "id": "8ef1be30",
   "metadata": {},
   "outputs": [
    {
     "data": {
      "text/plain": [
       "97"
      ]
     },
     "execution_count": 18,
     "metadata": {},
     "output_type": "execute_result"
    }
   ],
   "source": [
    "ord('a')"
   ]
  },
  {
   "cell_type": "code",
   "execution_count": 20,
   "id": "c737254a",
   "metadata": {},
   "outputs": [
    {
     "name": "stdout",
     "output_type": "stream",
     "text": [
      "a>b False\n",
      "a<b True\n"
     ]
    }
   ],
   "source": [
    "a=\"BHOPAL\"\n",
    "b=\"bhopal\"\n",
    "print(\"a>b\",a>b)\n",
    "print(\"a<b\",a<b)"
   ]
  },
  {
   "cell_type": "code",
   "execution_count": 21,
   "id": "b5c3c2b2",
   "metadata": {},
   "outputs": [
    {
     "data": {
      "text/plain": [
       "False"
      ]
     },
     "execution_count": 21,
     "metadata": {},
     "output_type": "execute_result"
    }
   ],
   "source": [
    "1>2>1\n"
   ]
  },
  {
   "cell_type": "code",
   "execution_count": 22,
   "id": "ad8c3c7c",
   "metadata": {},
   "outputs": [
    {
     "data": {
      "text/plain": [
       "True"
      ]
     },
     "execution_count": 22,
     "metadata": {},
     "output_type": "execute_result"
    }
   ],
   "source": [
    "7>6>5"
   ]
  },
  {
   "cell_type": "code",
   "execution_count": 24,
   "id": "ab07536c",
   "metadata": {},
   "outputs": [
    {
     "data": {
      "text/plain": [
       "False"
      ]
     },
     "execution_count": 24,
     "metadata": {},
     "output_type": "execute_result"
    }
   ],
   "source": [
    "5<6>7"
   ]
  },
  {
   "cell_type": "code",
   "execution_count": 25,
   "id": "42ff6064",
   "metadata": {},
   "outputs": [
    {
     "data": {
      "text/plain": [
       "False"
      ]
     },
     "execution_count": 25,
     "metadata": {},
     "output_type": "execute_result"
    }
   ],
   "source": [
    "5>6>7"
   ]
  },
  {
   "cell_type": "code",
   "execution_count": 26,
   "id": "fff30fc3",
   "metadata": {},
   "outputs": [
    {
     "data": {
      "text/plain": [
       "True"
      ]
     },
     "execution_count": 26,
     "metadata": {},
     "output_type": "execute_result"
    }
   ],
   "source": [
    "5<6<7"
   ]
  },
  {
   "cell_type": "code",
   "execution_count": 27,
   "id": "902611c2",
   "metadata": {},
   "outputs": [
    {
     "name": "stdout",
     "output_type": "stream",
     "text": [
      "False\n"
     ]
    }
   ],
   "source": [
    "print(10==True)"
   ]
  },
  {
   "cell_type": "code",
   "execution_count": 28,
   "id": "433c3e7e",
   "metadata": {},
   "outputs": [
    {
     "name": "stdout",
     "output_type": "stream",
     "text": [
      "False\n"
     ]
    }
   ],
   "source": [
    "print(\"A\"==65)"
   ]
  },
  {
   "cell_type": "code",
   "execution_count": 29,
   "id": "9981dc73",
   "metadata": {},
   "outputs": [
    {
     "name": "stdout",
     "output_type": "stream",
     "text": [
      "False\n"
     ]
    }
   ],
   "source": [
    "print(\"A\"==\"65\")"
   ]
  },
  {
   "cell_type": "code",
   "execution_count": 30,
   "id": "abfe1f94",
   "metadata": {},
   "outputs": [
    {
     "data": {
      "text/plain": [
       "True"
      ]
     },
     "execution_count": 30,
     "metadata": {},
     "output_type": "execute_result"
    }
   ],
   "source": [
    "1==True"
   ]
  },
  {
   "cell_type": "code",
   "execution_count": 31,
   "id": "d05a2424",
   "metadata": {},
   "outputs": [
    {
     "data": {
      "text/plain": [
       "False"
      ]
     },
     "execution_count": 31,
     "metadata": {},
     "output_type": "execute_result"
    }
   ],
   "source": [
    "a=40\n",
    "b=20\n",
    "c=50\n",
    "a>b and a>c"
   ]
  },
  {
   "cell_type": "code",
   "execution_count": 32,
   "id": "5d7c3a36",
   "metadata": {},
   "outputs": [
    {
     "data": {
      "text/plain": [
       "True"
      ]
     },
     "execution_count": 32,
     "metadata": {},
     "output_type": "execute_result"
    }
   ],
   "source": [
    "a=40\n",
    "b=20\n",
    "c=50\n",
    "a>b and a<c"
   ]
  },
  {
   "cell_type": "code",
   "execution_count": 37,
   "id": "16fa58a1",
   "metadata": {},
   "outputs": [
    {
     "data": {
      "text/plain": [
       "6"
      ]
     },
     "execution_count": 37,
     "metadata": {},
     "output_type": "execute_result"
    }
   ],
   "source": [
    "5 and 6"
   ]
  },
  {
   "cell_type": "code",
   "execution_count": 38,
   "id": "f7af0d9b",
   "metadata": {},
   "outputs": [
    {
     "data": {
      "text/plain": [
       "5"
      ]
     },
     "execution_count": 38,
     "metadata": {},
     "output_type": "execute_result"
    }
   ],
   "source": [
    "5 or 6"
   ]
  },
  {
   "cell_type": "code",
   "execution_count": 35,
   "id": "02d72597",
   "metadata": {},
   "outputs": [
    {
     "data": {
      "text/plain": [
       "0"
      ]
     },
     "execution_count": 35,
     "metadata": {},
     "output_type": "execute_result"
    }
   ],
   "source": [
    "0 and 10"
   ]
  },
  {
   "cell_type": "code",
   "execution_count": 36,
   "id": "d3ad7005",
   "metadata": {},
   "outputs": [
    {
     "data": {
      "text/plain": [
       "10"
      ]
     },
     "execution_count": 36,
     "metadata": {},
     "output_type": "execute_result"
    }
   ],
   "source": [
    "'Sachin' and 10"
   ]
  },
  {
   "cell_type": "code",
   "execution_count": 39,
   "id": "2adf958a",
   "metadata": {},
   "outputs": [
    {
     "data": {
      "text/plain": [
       "0"
      ]
     },
     "execution_count": 39,
     "metadata": {},
     "output_type": "execute_result"
    }
   ],
   "source": [
    "5 and 0"
   ]
  },
  {
   "cell_type": "code",
   "execution_count": 43,
   "id": "8446e9e4",
   "metadata": {},
   "outputs": [
    {
     "name": "stdout",
     "output_type": "stream",
     "text": [
      "10\n",
      "10\n",
      "10\n"
     ]
    }
   ],
   "source": [
    "a=b=c=10\n",
    "print(a)\n",
    "print(b)\n",
    "print(c)"
   ]
  },
  {
   "cell_type": "code",
   "execution_count": 45,
   "id": "9312b389",
   "metadata": {},
   "outputs": [
    {
     "name": "stdout",
     "output_type": "stream",
     "text": [
      "10\n",
      "11\n",
      "39\n"
     ]
    }
   ],
   "source": [
    "x,y,z=10,11,39\n",
    "print(x)\n",
    "print(y)\n",
    "print(z)"
   ]
  },
  {
   "cell_type": "code",
   "execution_count": 47,
   "id": "fa2f4070",
   "metadata": {},
   "outputs": [
    {
     "data": {
      "text/plain": [
       "15"
      ]
     },
     "execution_count": 47,
     "metadata": {},
     "output_type": "execute_result"
    }
   ],
   "source": [
    "y=10\n",
    "y+=5\n",
    "y"
   ]
  },
  {
   "cell_type": "code",
   "execution_count": 48,
   "id": "76dd3a2b",
   "metadata": {},
   "outputs": [
    {
     "name": "stdout",
     "output_type": "stream",
     "text": [
      "True\n"
     ]
    }
   ],
   "source": [
    "print(15==15.0)"
   ]
  },
  {
   "cell_type": "code",
   "execution_count": 49,
   "id": "c9f4d5bb",
   "metadata": {},
   "outputs": [
    {
     "name": "stdout",
     "output_type": "stream",
     "text": [
      "False\n"
     ]
    }
   ],
   "source": [
    "print(False!=0.0)"
   ]
  },
  {
   "cell_type": "code",
   "execution_count": 50,
   "id": "52ba5120",
   "metadata": {},
   "outputs": [
    {
     "name": "stdout",
     "output_type": "stream",
     "text": [
      "True\n"
     ]
    }
   ],
   "source": [
    "print(2+5j==2+5j)"
   ]
  },
  {
   "cell_type": "code",
   "execution_count": 51,
   "id": "36aff6cc",
   "metadata": {},
   "outputs": [
    {
     "name": "stdout",
     "output_type": "stream",
     "text": [
      "10\n"
     ]
    }
   ],
   "source": [
    "a=10\n",
    "print(--a)"
   ]
  },
  {
   "cell_type": "code",
   "execution_count": 52,
   "id": "ee987c74",
   "metadata": {},
   "outputs": [
    {
     "ename": "SyntaxError",
     "evalue": "invalid syntax (1646367316.py, line 2)",
     "output_type": "error",
     "traceback": [
      "\u001b[1;36m  Cell \u001b[1;32mIn[52], line 2\u001b[1;36m\u001b[0m\n\u001b[1;33m    print(a--)\u001b[0m\n\u001b[1;37m             ^\u001b[0m\n\u001b[1;31mSyntaxError\u001b[0m\u001b[1;31m:\u001b[0m invalid syntax\n"
     ]
    }
   ],
   "source": [
    "a=10\n",
    "print(a--)"
   ]
  },
  {
   "cell_type": "code",
   "execution_count": 53,
   "id": "719549c7",
   "metadata": {},
   "outputs": [
    {
     "name": "stdout",
     "output_type": "stream",
     "text": [
      "10\n"
     ]
    }
   ],
   "source": [
    "print(+++++++a)"
   ]
  },
  {
   "cell_type": "code",
   "execution_count": 54,
   "id": "6a909c63",
   "metadata": {},
   "outputs": [
    {
     "data": {
      "text/plain": [
       "10"
      ]
     },
     "execution_count": 54,
     "metadata": {},
     "output_type": "execute_result"
    }
   ],
   "source": [
    "+++++++++++++a\n"
   ]
  },
  {
   "cell_type": "code",
   "execution_count": 55,
   "id": "c5bcacf4",
   "metadata": {},
   "outputs": [
    {
     "data": {
      "text/plain": [
       "10"
      ]
     },
     "execution_count": 55,
     "metadata": {},
     "output_type": "execute_result"
    }
   ],
   "source": [
    "+++++++a"
   ]
  },
  {
   "cell_type": "code",
   "execution_count": 58,
   "id": "43de9723",
   "metadata": {},
   "outputs": [
    {
     "name": "stdout",
     "output_type": "stream",
     "text": [
      "10\n"
     ]
    }
   ],
   "source": [
    "a=10\n",
    "a=+++++a\n",
    "a=++a\n",
    "a=++a\n",
    "print(a)"
   ]
  },
  {
   "cell_type": "code",
   "execution_count": null,
   "id": "2ee1fbab",
   "metadata": {},
   "outputs": [],
   "source": []
  }
 ],
 "metadata": {
  "kernelspec": {
   "display_name": "Python 3 (ipykernel)",
   "language": "python",
   "name": "python3"
  },
  "language_info": {
   "codemirror_mode": {
    "name": "ipython",
    "version": 3
   },
   "file_extension": ".py",
   "mimetype": "text/x-python",
   "name": "python",
   "nbconvert_exporter": "python",
   "pygments_lexer": "ipython3",
   "version": "3.11.5"
  }
 },
 "nbformat": 4,
 "nbformat_minor": 5
}
